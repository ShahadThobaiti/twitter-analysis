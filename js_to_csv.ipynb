{
 "cells": [
  {
   "cell_type": "code",
   "execution_count": 1,
   "metadata": {},
   "outputs": [],
   "source": [
    "import pandas as pd  \n",
    "import json \n",
    "import csv \n",
    "import itertools\n",
    "\n"
   ]
  },
  {
   "cell_type": "code",
   "execution_count": 2,
   "metadata": {},
   "outputs": [],
   "source": [
    "Person='You'"
   ]
  },
  {
   "cell_type": "code",
   "execution_count": 3,
   "metadata": {
    "scrolled": true
   },
   "outputs": [],
   "source": [
    "\n",
    "with open('demo_data/js/tweet.js') as js_file:\n",
    "    tweets_str = js_file.read()\n",
    "    tweets_str=tweets_str[len('window.YTD.tweet.part0 = '):]\n",
    "    tweets = json.loads(tweets_str)\n"
   ]
  },
  {
   "cell_type": "code",
   "execution_count": 4,
   "metadata": {},
   "outputs": [],
   "source": [
    "\n",
    "with open('demo_data/js/following.js') as js_file:\n",
    "    following_str = js_file.read()\n",
    "    following_str=following_str[len('window.YTD.following.part0 ='):]\n",
    "    followings = json.loads(following_str)\n",
    "\n"
   ]
  },
  {
   "cell_type": "code",
   "execution_count": 5,
   "metadata": {},
   "outputs": [],
   "source": [
    "\n",
    "with open('demo_data/js/like.js') as js_file:\n",
    "    like_str = js_file.read()\n",
    "    like_str=like_str[len('window.YTD.like.part0 = '):]\n",
    "    likes = json.loads(like_str)\n",
    "\n"
   ]
  },
  {
   "cell_type": "code",
   "execution_count": 6,
   "metadata": {},
   "outputs": [],
   "source": [
    "accounts=[]\n",
    "\n",
    "for account in followings:\n",
    "    accounts.append(account['following']['accountId'])\n",
    "    \n",
    "following_df=pd.DataFrame()\n",
    "following_df['account_id']=accounts\n",
    "following_df['account']=Person\n",
    "\n",
    "following_df.to_csv('demo_data/csv/following.csv',index=False)"
   ]
  },
  {
   "cell_type": "code",
   "execution_count": 7,
   "metadata": {},
   "outputs": [],
   "source": [
    "liked_tweets=[]\n",
    "\n",
    "for like in likes:\n",
    "    liked_tweets.append(like['like']['fullText'])\n",
    "    \n",
    "liked_tweets_df=pd.DataFrame()\n",
    "liked_tweets_df['liked_tweet']=liked_tweets\n",
    "\n",
    "liked_tweets_df.to_csv('demo_data/csv/likes.csv',index=False)"
   ]
  },
  {
   "cell_type": "code",
   "execution_count": 8,
   "metadata": {
    "scrolled": true
   },
   "outputs": [],
   "source": [
    "tweet_text=[]\n",
    "tweet_type=[]\n",
    "post_time=[]\n",
    "tweet_source=[]\n",
    "fav_count=[]\n",
    "ret_count=[]\n",
    "tweet_id=[]\n",
    "tweet_language=[]\n",
    "hashtags=[]\n",
    "retweeted_from=[]\n",
    "reply_to_id=[]\n",
    "reply_to_name=[]\n",
    "retweeted_from_name=[]\n",
    "\n",
    "\n",
    "for tweet in tweets: \n",
    "        tweet_id.append(tweet['tweet']['id'])\n",
    "        tweet_language.append(tweet['tweet']['lang'])\n",
    "        post_time.append(tweet['tweet']['created_at'])\n",
    "        fav_count.append(tweet['tweet']['favorite_count'])\n",
    "        ret_count.append(tweet['tweet']['retweet_count'])\n",
    "        tweet_source.append(tweet['tweet']['source'].split('>')[1].split('<')[0])\n",
    "\n",
    "        \n",
    "        if len(tweet['tweet']['entities']['hashtags'])!=0:\n",
    "            hashtags_in_tweet=[]\n",
    "            for h in tweet['tweet']['entities']['hashtags']:\n",
    "                hashtags_in_tweet.append(h['text'])\n",
    "            hashtags.append(hashtags_in_tweet)\n",
    "        else:\n",
    "            hashtags.append('')\n",
    "        \n",
    "        if tweet['tweet']['full_text'][:1] == \"@\":\n",
    "            tweet_text.append(tweet['tweet']['full_text'])\n",
    "            tweet_type.append(\"reply\")\n",
    "            retweeted_from.append('')\n",
    "            retweeted_from_name.append('')\n",
    "            if len(tweet['tweet']['entities']['user_mentions'])!=0:\n",
    "                reply_to_id.append(tweet['tweet']['in_reply_to_user_id_str'])\n",
    "                reply_to_name.append(tweet['tweet']['entities']['user_mentions'][0]['name'])\n",
    "\n",
    "            else:\n",
    "                reply_to_id.append('')\n",
    "                reply_to_name.append('')\n",
    "\n",
    "\n",
    "        elif tweet['tweet']['full_text'][:3] == \"RT \":\n",
    "            tweet_text.append(tweet['tweet']['full_text'].split(':')[1])\n",
    "            tweet_type.append(\"retweet\")\n",
    "            reply_to_id.append('')\n",
    "            reply_to_name.append('')\n",
    "\n",
    "            if len(tweet['tweet']['entities']['user_mentions'])!=0:\n",
    "                retweeted_from.append(tweet['tweet']['entities']['user_mentions'][0]['id_str'])\n",
    "                retweeted_from_name.append(tweet['tweet']['entities']['user_mentions'][0]['name'])\n",
    "            else:\n",
    "                retweeted_from.append('')\n",
    "                retweeted_from_name.append('')\n",
    "        else:\n",
    "            tweet_text.append(tweet['tweet']['full_text'])\n",
    "            tweet_type.append(\"tweet\")\n",
    "            retweeted_from.append('')\n",
    "            retweeted_from_name.append('')\n",
    "            reply_to_id.append('')\n",
    "            reply_to_name.append('')\n",
    "\n",
    "tweets_df=pd.DataFrame()\n",
    "tweets_df['tweet_id']=tweet_id\n",
    "tweets_df['tweet']=tweet_text\n",
    "tweets_df['post_time']=post_time\n",
    "tweets_df['type']=tweet_type\n",
    "tweets_df['tweet_source']=tweet_source\n",
    "tweets_df['favorite_count']=fav_count\n",
    "tweets_df['retweet_count']=ret_count\n",
    "tweets_df['retweeted_from_id']=retweeted_from\n",
    "tweets_df['retweeted_from_name']=retweeted_from_name\n",
    "\n",
    "tweets_df['reply_to_id']=reply_to_id\n",
    "tweets_df['reply_to_name']=reply_to_name\n",
    "\n",
    "\n",
    "tweets_df['language']=tweet_language\n",
    "tweets_df['hashtags']=hashtags\n",
    "\n",
    "\n",
    "\n",
    "tweets_df.to_csv('demo_data/csv/tweets.csv',index=False)\n",
    "\n"
   ]
  },
  {
   "cell_type": "code",
   "execution_count": 9,
   "metadata": {},
   "outputs": [],
   "source": [
    "hashtags=list(filter(lambda word: word != '', hashtags))\n",
    "\n",
    "hashtags_list_flat = list(itertools.chain(*hashtags))\n",
    "\n",
    "hashtags_df=pd.DataFrame()\n",
    "hashtags_df['hashtag']=hashtags_list_flat\n",
    "hashtags_df['account']=Person\n",
    "hashtags_df.to_csv('demo_data/csv/hashtags.csv',index=False)\n",
    "\n",
    "\n"
   ]
  },
  {
   "cell_type": "code",
   "execution_count": null,
   "metadata": {},
   "outputs": [],
   "source": []
  },
  {
   "cell_type": "code",
   "execution_count": null,
   "metadata": {},
   "outputs": [],
   "source": []
  },
  {
   "cell_type": "code",
   "execution_count": null,
   "metadata": {},
   "outputs": [],
   "source": []
  },
  {
   "cell_type": "code",
   "execution_count": null,
   "metadata": {},
   "outputs": [],
   "source": []
  },
  {
   "cell_type": "code",
   "execution_count": null,
   "metadata": {},
   "outputs": [],
   "source": []
  }
 ],
 "metadata": {
  "kernelspec": {
   "display_name": "Python 3",
   "language": "python",
   "name": "python3"
  },
  "language_info": {
   "codemirror_mode": {
    "name": "ipython",
    "version": 3
   },
   "file_extension": ".py",
   "mimetype": "text/x-python",
   "name": "python",
   "nbconvert_exporter": "python",
   "pygments_lexer": "ipython3",
   "version": "3.6.9"
  }
 },
 "nbformat": 4,
 "nbformat_minor": 4
}
